{
 "cells": [
  {
   "cell_type": "markdown",
   "id": "cc8cfba9",
   "metadata": {},
   "source": [
    "## Author - Tushar Dalvi"
   ]
  },
  {
   "cell_type": "markdown",
   "id": "f28a7df1",
   "metadata": {},
   "source": [
    "## Project Name - Calculator Making"
   ]
  },
  {
   "cell_type": "code",
   "execution_count": 1,
   "id": "2ced6c18",
   "metadata": {},
   "outputs": [
    {
     "name": "stdout",
     "output_type": "stream",
     "text": [
      "Do you want to calculate ? Y = yes or N= no:y\n",
      "enter a number: 5\n",
      "select operator:\n",
      "               '+' for addition\n",
      "               '-' for subtraction\n",
      "               '*' for multiplication\n",
      "               '/' for division\n",
      "               '^' for square\n",
      "               '%' for module+\n",
      "enter another number:2\n",
      "5 + 2 = \n",
      "7\n"
     ]
    }
   ],
   "source": [
    "result = 0\n",
    "def calculate ():\n",
    "    n_1 = int((input(\"enter a number: \")))\n",
    "    choice = input('''select operator:\n",
    "               '+' for addition\n",
    "               '-' for subtraction\n",
    "               '*' for multiplication\n",
    "               '/' for division\n",
    "               '^' for square\n",
    "               '%' for module''')\n",
    "    n_2 =int((input(\"enter another number:\")))\n",
    "    if choice == '+':\n",
    "        print(\"{} + {} = \".format(n_1,n_2))\n",
    "        print(n_1 + n_2)\n",
    "    elif choice == '-':\n",
    "        print(\"{} - {} = \".format(n_1,n_2))\n",
    "        print(n_1-n_2)\n",
    "    elif choice == '*':\n",
    "        print(\"{} * {} = \".format(n_1,n_2))\n",
    "        print(n_1*n_2)\n",
    "    elif choice == '/':\n",
    "        print(\"{} / {} = \".format(n_1,n_2))\n",
    "        print(n_1/n_2)\n",
    "    elif choice == '^':\n",
    "        print(\"{} ** {} = \".format(n_1,n_2))\n",
    "        result= n_1**n_2\n",
    "        print(result)\n",
    "    elif choice == '%':\n",
    "        print(\"{} % {} = \".format(n_1,n_2))\n",
    "        print(n_1%n_2)\n",
    "    else:\n",
    "        print(\"enter a valid operator , run the program again\")\n",
    "def again():\n",
    "    cal_again = input(\"Do you want to calculate ? Y = yes or N= no:\")\n",
    "    if cal_again.upper() == 'Y':\n",
    "        calculate()\n",
    "    elif cal_again.upper() == 'N':\n",
    "        print(\"see you later\")\n",
    "    else:\n",
    "        again()\n",
    "        \n",
    "again()"
   ]
  },
  {
   "cell_type": "code",
   "execution_count": 9,
   "id": "ab7da4d8",
   "metadata": {},
   "outputs": [
    {
     "name": "stdout",
     "output_type": "stream",
     "text": [
      "enter a number8\n",
      "enter another number7\n",
      "x is integer\n",
      "y is integer\n",
      "select operator:\n",
      "               '+' for addition\n",
      "               '-' for subtraction\n",
      "               '*' for multiplication\n",
      "               '/' for division\n",
      "               '^' for square\n",
      "               '%' for module *\n",
      "8 * 7 = \n",
      "56\n"
     ]
    }
   ],
   "source": [
    "\n",
    "result = 0\n",
    "x = input(\"enter a number\")\n",
    "y = input(\"enter another number\")\n",
    "if '.' in x:\n",
    "    x = float(x)\n",
    "    print(\"x is float\")\n",
    "if '.' in y:\n",
    "    y = float(y)\n",
    "    print(\"y is float\")\n",
    "if '.' not in x:\n",
    "    x = int(x)\n",
    "    print(\"x is integer\")\n",
    "if '.' not in y:\n",
    "    y = int(y)\n",
    "    print(\"y is integer\")\n",
    "\n",
    "choice = input('''select operator:\n",
    "               '+' for addition\n",
    "               '-' for subtraction\n",
    "               '*' for multiplication\n",
    "               '/' for division\n",
    "               '^' for square\n",
    "               '%' for module ''')\n",
    "if choice == '+':\n",
    "    print(\"{} + {} = \".format(x,y))\n",
    "    print(x + y)\n",
    "elif choice == '-':\n",
    "    print(\"{} - {} = \".format(x,y))\n",
    "    print(x-y)\n",
    "elif choice == '*':\n",
    "    print(\"{} * {} = \".format(x,y))\n",
    "    print(x*y)\n",
    "elif choice == '/':\n",
    "    print(\"{} / {} = \".format(x,y))\n",
    "    print(x/y)\n",
    "elif choice == '^':\n",
    "        result = x**y\n",
    "        print(result)\n",
    "elif choice == '%':\n",
    "    print(\"{} % {} = \".format(x,y))\n",
    "    print(x%y)\n",
    "else:\n",
    "    print(\"enter a valid operator , run the program again\")\n",
    " "
   ]
  },
  {
   "cell_type": "code",
   "execution_count": null,
   "id": "b4468b6d",
   "metadata": {},
   "outputs": [],
   "source": []
  }
 ],
 "metadata": {
  "kernelspec": {
   "display_name": "Python 3",
   "language": "python",
   "name": "python3"
  },
  "language_info": {
   "codemirror_mode": {
    "name": "ipython",
    "version": 3
   },
   "file_extension": ".py",
   "mimetype": "text/x-python",
   "name": "python",
   "nbconvert_exporter": "python",
   "pygments_lexer": "ipython3",
   "version": "3.8.8"
  }
 },
 "nbformat": 4,
 "nbformat_minor": 5
}
